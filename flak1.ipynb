{
 "cells": [
  {
   "cell_type": "code",
   "execution_count": null,
   "id": "ea37e61e-8823-44d4-afe5-ff2febbc9d10",
   "metadata": {},
   "outputs": [],
   "source": [
    "ANS1\n",
    "Flask is a lightweight WSGI web application framework. It is designed to make getting started quick and easy, with the ability to scale up to complex applications. It began as a simple wrapper around Werkzeug and Jinja and has become one of the most popular Python web application frameworks.\n",
    "\n",
    "Advantage\n",
    "This reduces or mitigates a number of problems that arise due to the rigidity of project layout in other frameworks. The number of ways a Python Flask framework code can be organized is roughly equal to the number of applications written by developers in Flask.\n",
    "1.Easy to understand development\n",
    "2. It is very flexible and easy.\n",
    "3. testing "
   ]
  },
  {
   "cell_type": "code",
   "execution_count": null,
   "id": "c3df3c80-a751-4c87-adeb-0b07f9879ae2",
   "metadata": {},
   "outputs": [],
   "source": [
    "from flask import Flask\n",
    "\n",
    "app = Flask(__name__)\n",
    "\n",
    "@app.route(\"/\")\n",
    "def hello_world():\n",
    "    return \"<h1>Hello, World!</h1>\"\n",
    "\n",
    "if __name__==\"__main__\":\n",
    "    app.run(host=\"0.0.0.0\")"
   ]
  },
  {
   "cell_type": "markdown",
   "id": "b8a52ce1-6547-4711-b8f0-b4385511555e",
   "metadata": {},
   "source": [
    "![image.png](attachment:690f5e0b-d7df-4480-899b-98dbac7727e7.png)"
   ]
  },
  {
   "cell_type": "markdown",
   "id": "5c85abf2-887c-4684-b768-550905a0a022",
   "metadata": {},
   "source": [
    "ans3\n",
    "App Routing means mapping the URLs to a specific function that will handle the logic for that URL. Modern web frameworks use more meaningful URLs to help users remember the URLs and make navigation simpler. Example: In our application, the URL (“/”) is associated with the root URL."
   ]
  },
  {
   "cell_type": "code",
   "execution_count": null,
   "id": "bc685b85-37dd-4650-b06c-55784ba28daa",
   "metadata": {},
   "outputs": [],
   "source": [
    "#ans 4\n",
    "from flask import Flask\n",
    "\n",
    "app = Flask(__name__)\n",
    "\n",
    "@app.route(\"/\")\n",
    "def hello_world():\n",
    "    return (\"Company Name: ABC Corporation\"+ '\\n' + \"Location: India\" + '\\n' \"Contact Detail: 999-999-9999\")\n",
    "\n",
    "@app.route(\"/welcome\")\n",
    "def welcome():\n",
    "    return \"“Welcome to ABC Corporation”\"\n",
    "\n",
    "\n",
    "if __name__==\"__main__\":\n",
    "    app.run(host=\"0.0.0.0\")\n"
   ]
  },
  {
   "cell_type": "markdown",
   "id": "044661a2-cd27-4476-9790-5c41ab0a2f25",
   "metadata": {},
   "source": [
    "![wel.jpg](attachment:7ab3e1ce-0224-4472-9916-0690dfc07132.jpg)"
   ]
  },
  {
   "cell_type": "markdown",
   "id": "8412a6dd-20a9-4fbe-b30b-d71d564c6e36",
   "metadata": {},
   "source": [
    "ans 5 \n",
    "The url_for () function is used to build a URL to the specific function dynamically. The first argument is the name of the specified function, and then we can pass any number of keyword argument corresponding to the variable part of the URL."
   ]
  },
  {
   "cell_type": "code",
   "execution_count": null,
   "id": "342a12e6-dd0a-4e33-b22e-49c0d11cb748",
   "metadata": {},
   "outputs": [],
   "source": [
    "from flask import Flask, url_for\n",
    "app = Flask(__name__)\n",
    "@app.route('/admin')\n",
    "def hello_admin():\n",
    "   return 'Hello Admin'\n",
    "@app.route('/guest/<guest>')\n",
    "def hello_guest(guest):\n",
    "   return 'Hello %s as Guest' % guest\n",
    "@app.route('/user/<username>')\n",
    "def profile(username):\n",
    "    return '{}'s profile'.format(username)\n",
    "@app.route('/users/<name>')\n",
    "def hello_user(name):\n",
    "   if name =='admin':\n",
    "      return redirect(url_for('hello_admin'))\n",
    "   else:\n",
    "      return redirect(url_for('hello_guest',guest = name))"
   ]
  }
 ],
 "metadata": {
  "kernelspec": {
   "display_name": "Python 3 (ipykernel)",
   "language": "python",
   "name": "python3"
  },
  "language_info": {
   "codemirror_mode": {
    "name": "ipython",
    "version": 3
   },
   "file_extension": ".py",
   "mimetype": "text/x-python",
   "name": "python",
   "nbconvert_exporter": "python",
   "pygments_lexer": "ipython3",
   "version": "3.10.8"
  }
 },
 "nbformat": 4,
 "nbformat_minor": 5
}
